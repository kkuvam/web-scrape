{
 "cells": [
  {
   "cell_type": "code",
   "execution_count": 15,
   "id": "7adf97d2-1bbe-4bb2-967c-6619d077b131",
   "metadata": {},
   "outputs": [],
   "source": [
    "import requests\n",
    "from datetime import date"
   ]
  },
  {
   "cell_type": "code",
   "execution_count": 19,
   "id": "ab1430d3-1196-4061-bf03-4782675b0dc4",
   "metadata": {},
   "outputs": [],
   "source": [
    "uri = \"https://economictimes.indiatimes.com/archivelist/\"\n",
    "year = \"2022\"\n",
    "month = [\"1\", \"2\", \"3\", \"4\", \"5\"]\n",
    "start = 44562 # January 1, 2022"
   ]
  },
  {
   "cell_type": "code",
   "execution_count": 20,
   "id": "db6cba7f-a9ef-45e2-8053-d7217c5a480f",
   "metadata": {},
   "outputs": [],
   "source": [
    "def fetch(ur):\n",
    "    response = requests.get(url)\n",
    "    if response.status_code == 200:\n",
    "        print(response.text[:500])  # Print the first 500 characters\n",
    "    else:\n",
    "        print(\"Failed to retrieve page.\")\n",
    "\n"
   ]
  },
  {
   "cell_type": "code",
   "execution_count": 21,
   "id": "e04be1e7-606e-421b-95bd-5bb209f42fd2",
   "metadata": {},
   "outputs": [],
   "source": [
    "url = \"https://economictimes.indiatimes.com/archivelist/year-2022,month-4,starttime-44653.cms\""
   ]
  },
  {
   "cell_type": "code",
   "execution_count": 22,
   "id": "fd698838-cd78-4124-9192-463d84abde10",
   "metadata": {},
   "outputs": [
    {
     "name": "stdout",
     "output_type": "stream",
     "text": [
      "<!DOCTYPE html><!DOCTYPE HTML><html xmlns:err=\"http://www.w3.org/2005/xqt-errors\"><head><meta http-equiv=\"Content-Type\" content=\"text/html; charset=UTF-8\"><title>02 Apr, 2022 top news: 02 Apr, 2022 breaking news, what happened on 02 Apr, 2022 | The Economic Times</title><meta name=\"Description\" content=\"02 Apr, 2022 top news: What happened on 02 Apr, 2022. 02 Apr, 2022 top stories, 02 Apr, 2022 major events, breaking news from 02 Apr, 2022 on The Economic Times.\"><meta name=\"keywords\" content=\"0\n"
     ]
    }
   ],
   "source": [
    "fetch(url)"
   ]
  },
  {
   "cell_type": "code",
   "execution_count": 23,
   "id": "8d883775-cdf5-4fa9-b75b-12c7995651ee",
   "metadata": {},
   "outputs": [],
   "source": [
    "def generate(year, month, day, start=44562):\n",
    "    d1 = date(2022, 1, 11)\n",
    "    d2 = date(int(year), int(month), int(day))\n",
    "    diff = d2 - d1\n",
    "    current = start + diff.days\n",
    "    return \"year-%s,month-%s,starttime-%s.cms\" % (year, month,current)"
   ]
  },
  {
   "cell_type": "code",
   "execution_count": 24,
   "id": "410778d5-9495-4276-a0c6-3e5340b745ad",
   "metadata": {},
   "outputs": [
    {
     "data": {
      "text/plain": [
       "'year-2022,month-4,starttime-44642.cms'"
      ]
     },
     "execution_count": 24,
     "metadata": {},
     "output_type": "execute_result"
    }
   ],
   "source": [
    "generate(2022,4,1)"
   ]
  },
  {
   "cell_type": "code",
   "execution_count": null,
   "id": "f1de78cd-727c-452f-97d5-934a8f13e921",
   "metadata": {},
   "outputs": [],
   "source": []
  }
 ],
 "metadata": {
  "kernelspec": {
   "display_name": "Python 3 (ipykernel)",
   "language": "python",
   "name": "python3"
  },
  "language_info": {
   "codemirror_mode": {
    "name": "ipython",
    "version": 3
   },
   "file_extension": ".py",
   "mimetype": "text/x-python",
   "name": "python",
   "nbconvert_exporter": "python",
   "pygments_lexer": "ipython3",
   "version": "3.12.11"
  }
 },
 "nbformat": 4,
 "nbformat_minor": 5
}
