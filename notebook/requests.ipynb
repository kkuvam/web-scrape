{
 "cells": [
  {
   "cell_type": "code",
   "execution_count": 1,
   "id": "7adf97d2-1bbe-4bb2-967c-6619d077b131",
   "metadata": {},
   "outputs": [],
   "source": [
    "import requests\n",
    "from datetime import date\n",
    "import calendar"
   ]
  },
  {
   "cell_type": "code",
   "execution_count": 2,
   "id": "ab1430d3-1196-4061-bf03-4782675b0dc4",
   "metadata": {},
   "outputs": [],
   "source": [
    "uri_month = \"https://economictimes.indiatimes.com/archive/\"\n",
    "uri_day = \"https://economictimes.indiatimes.com/archivelist/\"\n",
    "years = [\"2022\"]\n",
    "months = [\"1\", \"2\", \"3\", \"4\", \"5\"]\n",
    "start = 44562"
   ]
  },
  {
   "cell_type": "code",
   "execution_count": 3,
   "id": "db6cba7f-a9ef-45e2-8053-d7217c5a480f",
   "metadata": {},
   "outputs": [],
   "source": [
    "def fetch_url(url):\n",
    "    response = requests.get(url)\n",
    "    if response.status_code == 200:\n",
    "        return response\n",
    "    else:\n",
    "        print(\"Failed to retrieve page.\")\n",
    "        return False"
   ]
  },
  {
   "cell_type": "code",
   "execution_count": 4,
   "id": "8d883775-cdf5-4fa9-b75b-12c7995651ee",
   "metadata": {},
   "outputs": [],
   "source": [
    "def generate_urls(years, months, start):\n",
    "    month_urls = []\n",
    "    day_urls = []\n",
    "    for year in years:\n",
    "        for month in months:\n",
    "            month_urls.append(uri_month + \"year-%s,month-%s.cms\" % (year, month))\n",
    "            max_days = calendar.monthrange(int(year), int(month))[1]\n",
    "            for i in range(1, max_days+1):\n",
    "                day_urls.append(uri_day + \"year-%s,month-%s,starttime-%s.cms\" % (year, month, start))\n",
    "                start = start + 1\n",
    "    return day_urls"
   ]
  },
  {
   "cell_type": "code",
   "execution_count": 7,
   "id": "410778d5-9495-4276-a0c6-3e5340b745ad",
   "metadata": {},
   "outputs": [],
   "source": [
    "urls = generate_urls(years, months, start)"
   ]
  },
  {
   "cell_type": "code",
   "execution_count": 9,
   "id": "72f4c4eb-13cc-4708-ad1a-d72f4a11b62c",
   "metadata": {},
   "outputs": [
    {
     "data": {
      "text/plain": [
       "<Response [200]>"
      ]
     },
     "execution_count": 9,
     "metadata": {},
     "output_type": "execute_result"
    }
   ],
   "source": [
    "url = urls[0]\n",
    "fetch_url(url)"
   ]
  },
  {
   "cell_type": "code",
   "execution_count": null,
   "id": "524b5467-1b00-45c9-adf4-e994d2a40549",
   "metadata": {},
   "outputs": [],
   "source": []
  }
 ],
 "metadata": {
  "kernelspec": {
   "display_name": "Python 3 (ipykernel)",
   "language": "python",
   "name": "python3"
  },
  "language_info": {
   "codemirror_mode": {
    "name": "ipython",
    "version": 3
   },
   "file_extension": ".py",
   "mimetype": "text/x-python",
   "name": "python",
   "nbconvert_exporter": "python",
   "pygments_lexer": "ipython3",
   "version": "3.12.11"
  }
 },
 "nbformat": 4,
 "nbformat_minor": 5
}
