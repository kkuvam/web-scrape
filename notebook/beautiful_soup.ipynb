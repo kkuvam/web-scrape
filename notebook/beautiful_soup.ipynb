{
 "cells": [
  {
   "cell_type": "code",
   "execution_count": 1,
   "id": "f6a25cfe-139d-4b65-bef0-a2d7c928f6c5",
   "metadata": {},
   "outputs": [],
   "source": [
    "from bs4 import BeautifulSoup\n",
    "import requests"
   ]
  },
  {
   "cell_type": "code",
   "execution_count": 2,
   "id": "cf339286-b4ce-4206-94e3-0cbb7028eb87",
   "metadata": {},
   "outputs": [],
   "source": [
    "with open(\"urls.txt\", \"r\") as f:\n",
    "    urls = [line.strip() for line in f.readlines()]"
   ]
  },
  {
   "cell_type": "code",
   "execution_count": 3,
   "id": "f8a0019e-2b0b-4f30-91b2-c54ca3106309",
   "metadata": {},
   "outputs": [
    {
     "name": "stdout",
     "output_type": "stream",
     "text": [
      "https://economictimes.indiatimes.com/archivelist/year-2022,month-1,starttime-44562.cms\n"
     ]
    }
   ],
   "source": [
    "url = urls[0]\n",
    "print(url)"
   ]
  },
  {
   "cell_type": "code",
   "execution_count": 4,
   "id": "b90ee35d-6457-4068-bf35-323b0fb12580",
   "metadata": {},
   "outputs": [],
   "source": [
    "html = requests.get(url).text\n",
    "\n",
    "soup = BeautifulSoup(html, 'html.parser')\n",
    "\n",
    "# Find the <ul> with class \"contect\"\n",
    "ul = soup.find('ul', class_='content')\n",
    "\n",
    "# Extract all <a> tags inside that <ul>\n",
    "content_urls = [a['href'] for a in ul.find_all('a', href=True)]\n"
   ]
  },
  {
   "cell_type": "code",
   "execution_count": 5,
   "id": "04aff8c3-d371-4cfd-a81d-a7acc43cf728",
   "metadata": {},
   "outputs": [],
   "source": [
    "content_url = content_urls[0]"
   ]
  },
  {
   "cell_type": "code",
   "execution_count": 6,
   "id": "694bfdec-bcc9-4242-b162-66cce9bfb98c",
   "metadata": {},
   "outputs": [
    {
     "name": "stdout",
     "output_type": "stream",
     "text": [
      "Assam\n",
      "is mulling to create holding company with all the profit making petrochemical\n",
      "PSUs\n",
      ". Assam is targeting to become six lakh crore GDP by 2026.\n",
      "Assam chief minister,\n",
      "Himanta Biswa Sarma\n",
      "said, “We can unlock the value of investment by creating a holding company. Gujarat has done it and. Once we do this Rs 50,000 Crore will be in a place and with this we can unlock the value of investment.”\n",
      "He added, “In Numaligarh Refinery Limited we have increased our stake to 26 percent and will get a dividend of Rs 7000 Crore and this makes business sense. The refinery no doubt is an emotive issue for us. Singapore government gets 50 percent revenue from taxes and 50 percent from shares.”\n",
      "Sarma said that there is a move is to restructure Brahmaputra Valley Fertilizer Corporation Limited (BVFCL) and Assam government will have 26 percent stake in it. The chief minister said, “State’s GDP is on way to 4 lakh Crore and we have set a target of growing by 10 percent annually. The economy last year showed remarkable improvement.”\n",
      "The chief minister added, “There will huge inflow of capital investment in Assam this year. By 2026 state’s GDP should touch 6 lakh Crore. Our spending on capital projects is Rs 13000 Crore and we will touch Rs 20,000 Crore shortly. We have getting several externally aided projects.”\n",
      "Live Events\n",
      "Sarma opened the services of Dhirenpara First Referral Unit (FRU) as Annexe to Gauhati Medical College & Hospital.\n",
      "As services of\n",
      "Mahendra Mohan Choudhury Hospital\n",
      "under GMCH will remain closed from today as a new 800 bedded multi-speciality hospital will be constructed in place of MMCH, which will be Guwahati’s second medical college, Dhirenpara FRU and Pandu FRU will now be operational for the patients undergoing treatment at MMCH. Medical services such as OT facility, medicine specialist, surgery, obstetrics & Gynaecology, ENT, free X-Ray, ultrasound, laboratory services etc. will be available at the FRUs.\n",
      "Stating that in next year’s services will be technology driven Sarma said that human interference with the system will be eliminated.\n",
      "(You can now subscribe to our\n",
      "Economic Times WhatsApp channel\n",
      ")\n"
     ]
    }
   ],
   "source": [
    "html = requests.get(content_url).text\n",
    "\n",
    "soup = BeautifulSoup(html, 'html.parser')\n",
    "\n",
    "# Find the <div> with class \"artText\"\n",
    "art_text_div = soup.find('div', class_='artText')\n",
    "if art_text_div:\n",
    "    clean_text = art_text_div.get_text(separator='\\n', strip=True)\n",
    "    print(clean_text)"
   ]
  },
  {
   "cell_type": "code",
   "execution_count": null,
   "id": "a7611948-677e-4145-a6f5-95590bfb9950",
   "metadata": {},
   "outputs": [],
   "source": []
  }
 ],
 "metadata": {
  "kernelspec": {
   "display_name": "Python 3 (ipykernel)",
   "language": "python",
   "name": "python3"
  },
  "language_info": {
   "codemirror_mode": {
    "name": "ipython",
    "version": 3
   },
   "file_extension": ".py",
   "mimetype": "text/x-python",
   "name": "python",
   "nbconvert_exporter": "python",
   "pygments_lexer": "ipython3",
   "version": "3.12.11"
  }
 },
 "nbformat": 4,
 "nbformat_minor": 5
}
